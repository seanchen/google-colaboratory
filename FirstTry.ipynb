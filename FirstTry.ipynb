{
  "nbformat": 4,
  "nbformat_minor": 0,
  "metadata": {
    "colab": {
      "name": "FirstTry.ipynb",
      "provenance": [],
      "collapsed_sections": [],
      "authorship_tag": "ABX9TyNWK3ou6qZeBj6hrHwlcx5U",
      "include_colab_link": true
    },
    "kernelspec": {
      "name": "python3",
      "display_name": "Python 3"
    }
  },
  "cells": [
    {
      "cell_type": "markdown",
      "metadata": {
        "id": "view-in-github",
        "colab_type": "text"
      },
      "source": [
        "<a href=\"https://colab.research.google.com/github/seanchen/google-colaboratory/blob/main/FirstTry.ipynb\" target=\"_parent\"><img src=\"https://colab.research.google.com/assets/colab-badge.svg\" alt=\"Open In Colab\"/></a>"
      ]
    },
    {
      "cell_type": "code",
      "metadata": {
        "id": "ywl2hWsaFwsq",
        "colab": {
          "base_uri": "https://localhost:8080/"
        },
        "outputId": "be332847-2734-4f54-f066-6062ed2ffb2f"
      },
      "source": [
        "b = 3\n",
        "c = 4\n",
        "# comments\n",
        "# it can be markdown too.\n",
        "print(b + c)\n",
        "name = input('What is your name:')\n",
        "print('Your name is: ', name)"
      ],
      "execution_count": 4,
      "outputs": [
        {
          "output_type": "stream",
          "text": [
            "7\n",
            "What is your name:Try Again\n",
            "Your name is:  Try Again\n"
          ],
          "name": "stdout"
        }
      ]
    },
    {
      "cell_type": "markdown",
      "metadata": {
        "id": "7PBIR_iZHW5K"
      },
      "source": [
        "# New Section Title\n",
        "\n",
        "## subtitle\n",
        "\n",
        "content"
      ]
    }
  ]
}