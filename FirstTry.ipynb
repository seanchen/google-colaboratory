{
  "nbformat": 4,
  "nbformat_minor": 0,
  "metadata": {
    "colab": {
      "name": "FirstTry.ipynb",
      "provenance": [],
      "collapsed_sections": [],
      "authorship_tag": "ABX9TyNinknQ9qeUCHO0QYn2Dqul",
      "include_colab_link": true
    },
    "kernelspec": {
      "name": "python3",
      "display_name": "Python 3"
    }
  },
  "cells": [
    {
      "cell_type": "markdown",
      "metadata": {
        "id": "view-in-github",
        "colab_type": "text"
      },
      "source": [
        "<a href=\"https://colab.research.google.com/github/seanchen/google-colaboratory/blob/main/FirstTry.ipynb\" target=\"_parent\"><img src=\"https://colab.research.google.com/assets/colab-badge.svg\" alt=\"Open In Colab\"/></a>"
      ]
    },
    {
      "cell_type": "code",
      "metadata": {
        "id": "3YFAhhC-h8jX"
      },
      "source": [
        "!pip install twisted"
      ],
      "execution_count": null,
      "outputs": []
    },
    {
      "cell_type": "markdown",
      "metadata": {
        "id": "4D96-EYDnoi8"
      },
      "source": [
        "# How to check Python version"
      ]
    },
    {
      "cell_type": "code",
      "metadata": {
        "id": "4nl2CVAynxi1"
      },
      "source": [
        "import sys\n",
        "\n",
        "sys.version"
      ],
      "execution_count": null,
      "outputs": []
    },
    {
      "cell_type": "code",
      "metadata": {
        "id": "ywl2hWsaFwsq"
      },
      "source": [
        "b = 3\n",
        "c = 4\n",
        "# comments\n",
        "# it can be markdown too.\n",
        "print(b + c)\n",
        "name = input('What is your name: ')\n",
        "age = input('how old are you: ')\n",
        "print('Your name is: ', name)\n",
        "print(\"\"\"Multiple lines print is here!\n",
        "There is the second line.\n",
        "\"\"\")"
      ],
      "execution_count": null,
      "outputs": []
    },
    {
      "cell_type": "markdown",
      "metadata": {
        "id": "7PBIR_iZHW5K"
      },
      "source": [
        "# New Section Title\n",
        "\n",
        "## subtitle\n",
        "\n",
        "content"
      ]
    },
    {
      "cell_type": "code",
      "metadata": {
        "id": "g2cPb8TDhaVz"
      },
      "source": [
        "from twisted.internet import asyncioreactor\n",
        "asyncioreactor.install()\n",
        "__file__ = None"
      ],
      "execution_count": 7,
      "outputs": []
    }
  ]
}