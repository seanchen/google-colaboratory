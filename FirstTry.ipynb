{
  "nbformat": 4,
  "nbformat_minor": 0,
  "metadata": {
    "colab": {
      "name": "FirstTry.ipynb",
      "provenance": [],
      "collapsed_sections": [],
      "authorship_tag": "ABX9TyMOItQkJPZEaOxg5ypGtm7Z",
      "include_colab_link": true
    },
    "kernelspec": {
      "name": "python3",
      "display_name": "Python 3"
    }
  },
  "cells": [
    {
      "cell_type": "markdown",
      "metadata": {
        "id": "view-in-github",
        "colab_type": "text"
      },
      "source": [
        "<a href=\"https://colab.research.google.com/github/seanchen/google-colaboratory/blob/main/FirstTry.ipynb\" target=\"_parent\"><img src=\"https://colab.research.google.com/assets/colab-badge.svg\" alt=\"Open In Colab\"/></a>"
      ]
    },
    {
      "cell_type": "code",
      "metadata": {
        "id": "ywl2hWsaFwsq",
        "colab": {
          "base_uri": "https://localhost:8080/"
        },
        "outputId": "88f8186d-fa50-48a0-b56b-362e20a55e1f"
      },
      "source": [
        "b = 3\n",
        "c = 4\n",
        "# comments\n",
        "# it can be markdown too.\n",
        "print(b + c)\n",
        "name = input('What is your name: ')\n",
        "age = input('how old are you: ')\n",
        "print('Your name is: ', name)\n"
      ],
      "execution_count": 7,
      "outputs": [
        {
          "output_type": "stream",
          "text": [
            "7\n",
            "What is your name: No Name\n",
            "how old are you: 100\n",
            "Your name is:  No Name\n"
          ],
          "name": "stdout"
        }
      ]
    },
    {
      "cell_type": "markdown",
      "metadata": {
        "id": "7PBIR_iZHW5K"
      },
      "source": [
        "# New Section Title\n",
        "\n",
        "## subtitle\n",
        "\n",
        "content"
      ]
    }
  ]
}