{
  "nbformat": 4,
  "nbformat_minor": 0,
  "metadata": {
    "colab": {
      "name": "Untitled4.ipynb",
      "provenance": [],
      "authorship_tag": "ABX9TyOpWKkJcdt0nrVuZz2+AqJ4",
      "include_colab_link": true
    },
    "kernelspec": {
      "name": "python3",
      "display_name": "Python 3"
    }
  },
  "cells": [
    {
      "cell_type": "markdown",
      "metadata": {
        "id": "view-in-github",
        "colab_type": "text"
      },
      "source": [
        "<a href=\"https://colab.research.google.com/github/seanchen/google-colaboratory/blob/main/sandbox/ppb-getstarted.ipynb\" target=\"_parent\"><img src=\"https://colab.research.google.com/assets/colab-badge.svg\" alt=\"Open In Colab\"/></a>"
      ]
    },
    {
      "cell_type": "markdown",
      "metadata": {
        "id": "ENpxpqbWuzw9"
      },
      "source": [
        "# Dependences"
      ]
    },
    {
      "cell_type": "code",
      "metadata": {
        "id": "KpsaDG9QEtPu"
      },
      "source": [
        "!apt-get install libsdl2-gfx-1.0-0 libsdl2-gfx-dev"
      ],
      "execution_count": null,
      "outputs": []
    },
    {
      "cell_type": "code",
      "metadata": {
        "id": "MW-JHblBuy13",
        "outputId": "166122ca-2d8e-4381-ad2f-c388aa7dd224",
        "colab": {
          "base_uri": "https://localhost:8080/"
        }
      },
      "source": [
        "!pip install ppb twisted txppb pysdl2"
      ],
      "execution_count": 15,
      "outputs": [
        {
          "output_type": "stream",
          "text": [
            "Requirement already satisfied: ppb in /usr/local/lib/python3.6/dist-packages (0.11.0)\n",
            "Requirement already satisfied: twisted in /usr/local/lib/python3.6/dist-packages (20.3.0)\n",
            "Requirement already satisfied: txppb in /usr/local/lib/python3.6/dist-packages (0.1)\n",
            "Requirement already satisfied: pysdl2 in /usr/local/lib/python3.6/dist-packages (0.9.7)\n",
            "Requirement already satisfied: importlib-resources; python_version < \"3.7\" in /usr/local/lib/python3.6/dist-packages (from ppb) (4.1.1)\n",
            "Requirement already satisfied: dataclasses; python_version < \"3.7\" in /usr/local/lib/python3.6/dist-packages (from ppb) (0.8)\n",
            "Requirement already satisfied: ppb-vector~=1.0 in /usr/local/lib/python3.6/dist-packages (from ppb) (1.0)\n",
            "Requirement already satisfied: incremental>=16.10.1 in /usr/local/lib/python3.6/dist-packages (from twisted) (17.5.0)\n",
            "Requirement already satisfied: Automat>=0.3.0 in /usr/local/lib/python3.6/dist-packages (from twisted) (20.2.0)\n",
            "Requirement already satisfied: PyHamcrest!=1.10.0,>=1.9.0 in /usr/local/lib/python3.6/dist-packages (from twisted) (2.0.2)\n",
            "Requirement already satisfied: hyperlink>=17.1.1 in /usr/local/lib/python3.6/dist-packages (from twisted) (21.0.0)\n",
            "Requirement already satisfied: zope.interface>=4.4.2 in /usr/local/lib/python3.6/dist-packages (from twisted) (5.2.0)\n",
            "Requirement already satisfied: attrs>=19.2.0 in /usr/local/lib/python3.6/dist-packages (from twisted) (20.3.0)\n",
            "Requirement already satisfied: constantly>=15.1 in /usr/local/lib/python3.6/dist-packages (from twisted) (15.1.0)\n",
            "Requirement already satisfied: zipp>=0.4; python_version < \"3.8\" in /usr/local/lib/python3.6/dist-packages (from importlib-resources; python_version < \"3.7\"->ppb) (3.4.0)\n",
            "Requirement already satisfied: six in /usr/local/lib/python3.6/dist-packages (from Automat>=0.3.0->twisted) (1.15.0)\n",
            "Requirement already satisfied: idna>=2.5 in /usr/local/lib/python3.6/dist-packages (from hyperlink>=17.1.1->twisted) (2.10)\n",
            "Requirement already satisfied: setuptools in /usr/local/lib/python3.6/dist-packages (from zope.interface>=4.4.2->twisted) (51.1.1)\n"
          ],
          "name": "stdout"
        }
      ]
    },
    {
      "cell_type": "markdown",
      "metadata": {
        "id": "T02iH8-fvWrT"
      },
      "source": [
        "# Glue the event loops of Jupyter and PPB"
      ]
    },
    {
      "cell_type": "code",
      "metadata": {
        "id": "Iveo9hraunxd"
      },
      "source": [
        "import txppb\n",
        "\n",
        "from twisted.internet import asyncioreactor\n",
        "\n",
        "asyncioreactor.install()\n",
        "__file__ = None\n",
        "\n",
        "def setup(scene):\n",
        "  global SCENE\n",
        "  SCENE = scene\n",
        "\n",
        "d = txppb.run(setup)\n",
        "d.addBoth(print)"
      ],
      "execution_count": null,
      "outputs": []
    }
  ]
}