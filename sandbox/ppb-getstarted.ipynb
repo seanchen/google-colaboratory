{
  "nbformat": 4,
  "nbformat_minor": 0,
  "metadata": {
    "colab": {
      "name": "Untitled4.ipynb",
      "provenance": [],
      "authorship_tag": "ABX9TyOHf+Nu1fAIiwa717B0lFI4",
      "include_colab_link": true
    },
    "kernelspec": {
      "name": "python3",
      "display_name": "Python 3"
    }
  },
  "cells": [
    {
      "cell_type": "markdown",
      "metadata": {
        "id": "view-in-github",
        "colab_type": "text"
      },
      "source": [
        "<a href=\"https://colab.research.google.com/github/seanchen/google-colaboratory/blob/main/sandbox/ppb-getstarted.ipynb\" target=\"_parent\"><img src=\"https://colab.research.google.com/assets/colab-badge.svg\" alt=\"Open In Colab\"/></a>"
      ]
    },
    {
      "cell_type": "markdown",
      "metadata": {
        "id": "ENpxpqbWuzw9"
      },
      "source": [
        "# Dependences"
      ]
    },
    {
      "cell_type": "code",
      "metadata": {
        "colab": {
          "base_uri": "https://localhost:8080/"
        },
        "id": "MW-JHblBuy13",
        "outputId": "0cf2442a-e32c-4e04-b52b-7b8c0472714a"
      },
      "source": [
        "!pip install ppb twisted"
      ],
      "execution_count": 1,
      "outputs": [
        {
          "output_type": "stream",
          "text": [
            "Collecting ppb\n",
            "\u001b[?25l  Downloading https://files.pythonhosted.org/packages/7e/68/73615e7f267695fb0abadf324f1bbb32cc312f396ab549d6fe26f5aa2e51/ppb-0.11.0-py3-none-any.whl (51kB)\n",
            "\r\u001b[K     |██████▎                         | 10kB 14.1MB/s eta 0:00:01\r\u001b[K     |████████████▋                   | 20kB 18.8MB/s eta 0:00:01\r\u001b[K     |███████████████████             | 30kB 14.1MB/s eta 0:00:01\r\u001b[K     |█████████████████████████▎      | 40kB 10.4MB/s eta 0:00:01\r\u001b[K     |███████████████████████████████▋| 51kB 10.1MB/s eta 0:00:01\r\u001b[K     |████████████████████████████████| 61kB 5.0MB/s \n",
            "\u001b[?25hCollecting twisted\n",
            "\u001b[?25l  Downloading https://files.pythonhosted.org/packages/b7/04/1a664c9e5ec0224a1c1a154ddecaa4dc7b8967521bba225efcc41a03d5f3/Twisted-20.3.0-cp36-cp36m-manylinux1_x86_64.whl (3.1MB)\n",
            "\u001b[K     |████████████████████████████████| 3.1MB 11.4MB/s \n",
            "\u001b[?25hRequirement already satisfied: importlib-resources; python_version < \"3.7\" in /usr/local/lib/python3.6/dist-packages (from ppb) (4.1.1)\n",
            "Collecting PySDL2\n",
            "\u001b[?25l  Downloading https://files.pythonhosted.org/packages/60/ba/ddb48261848874eeb3d54963edbf3c74fff86499746aeb23151f123953bb/PySDL2-0.9.7-py3-none-any.whl (541kB)\n",
            "\u001b[K     |████████████████████████████████| 542kB 47.7MB/s \n",
            "\u001b[?25hCollecting ppb-vector~=1.0\n",
            "  Downloading https://files.pythonhosted.org/packages/51/cc/ff65d3b5ef5dcf735827e66427d262616b948a64621d4c4ca151bcdf1d5f/ppb_vector-1.0-py3-none-any.whl\n",
            "Requirement already satisfied: dataclasses; python_version < \"3.7\" in /usr/local/lib/python3.6/dist-packages (from ppb) (0.8)\n",
            "Requirement already satisfied: attrs>=19.2.0 in /usr/local/lib/python3.6/dist-packages (from twisted) (20.3.0)\n",
            "Collecting zope.interface>=4.4.2\n",
            "\u001b[?25l  Downloading https://files.pythonhosted.org/packages/82/b0/da8afd9b3bd50c7665ecdac062f182982af1173c9081f9af7261091c5588/zope.interface-5.2.0-cp36-cp36m-manylinux2010_x86_64.whl (236kB)\n",
            "\u001b[K     |████████████████████████████████| 245kB 48.2MB/s \n",
            "\u001b[?25hCollecting PyHamcrest!=1.10.0,>=1.9.0\n",
            "\u001b[?25l  Downloading https://files.pythonhosted.org/packages/40/16/e54cc65891f01cb62893540f44ffd3e8dab0a22443e1b438f1a9f5574bee/PyHamcrest-2.0.2-py3-none-any.whl (52kB)\n",
            "\u001b[K     |████████████████████████████████| 61kB 7.4MB/s \n",
            "\u001b[?25hCollecting Automat>=0.3.0\n",
            "  Downloading https://files.pythonhosted.org/packages/dd/83/5f6f3c1a562674d65efc320257bdc0873ec53147835aeef7762fe7585273/Automat-20.2.0-py2.py3-none-any.whl\n",
            "Collecting incremental>=16.10.1\n",
            "  Downloading https://files.pythonhosted.org/packages/f5/1d/c98a587dc06e107115cf4a58b49de20b19222c83d75335a192052af4c4b7/incremental-17.5.0-py2.py3-none-any.whl\n",
            "Collecting constantly>=15.1\n",
            "  Downloading https://files.pythonhosted.org/packages/b9/65/48c1909d0c0aeae6c10213340ce682db01b48ea900a7d9fce7a7910ff318/constantly-15.1.0-py2.py3-none-any.whl\n",
            "Collecting hyperlink>=17.1.1\n",
            "\u001b[?25l  Downloading https://files.pythonhosted.org/packages/6e/aa/8caf6a0a3e62863cbb9dab27135660acba46903b703e224f14f447e57934/hyperlink-21.0.0-py2.py3-none-any.whl (74kB)\n",
            "\u001b[K     |████████████████████████████████| 81kB 9.2MB/s \n",
            "\u001b[?25hRequirement already satisfied: zipp>=0.4; python_version < \"3.8\" in /usr/local/lib/python3.6/dist-packages (from importlib-resources; python_version < \"3.7\"->ppb) (3.4.0)\n",
            "Requirement already satisfied: setuptools in /usr/local/lib/python3.6/dist-packages (from zope.interface>=4.4.2->twisted) (51.1.1)\n",
            "Requirement already satisfied: six in /usr/local/lib/python3.6/dist-packages (from Automat>=0.3.0->twisted) (1.15.0)\n",
            "Requirement already satisfied: idna>=2.5 in /usr/local/lib/python3.6/dist-packages (from hyperlink>=17.1.1->twisted) (2.10)\n",
            "Installing collected packages: PySDL2, ppb-vector, ppb, zope.interface, PyHamcrest, Automat, incremental, constantly, hyperlink, twisted\n",
            "Successfully installed Automat-20.2.0 PyHamcrest-2.0.2 PySDL2-0.9.7 constantly-15.1.0 hyperlink-21.0.0 incremental-17.5.0 ppb-0.11.0 ppb-vector-1.0 twisted-20.3.0 zope.interface-5.2.0\n"
          ],
          "name": "stdout"
        }
      ]
    },
    {
      "cell_type": "markdown",
      "metadata": {
        "id": "T02iH8-fvWrT"
      },
      "source": [
        "# Glue the event loops of Jupyter and PPB"
      ]
    },
    {
      "cell_type": "code",
      "metadata": {
        "id": "Iveo9hraunxd"
      },
      "source": [
        ""
      ],
      "execution_count": null,
      "outputs": []
    }
  ]
}