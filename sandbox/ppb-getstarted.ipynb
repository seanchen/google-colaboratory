{
  "nbformat": 4,
  "nbformat_minor": 0,
  "metadata": {
    "colab": {
      "name": "Untitled4.ipynb",
      "provenance": [],
      "authorship_tag": "ABX9TyMXQ/sw0T+5SVuBwHSXl+Yx",
      "include_colab_link": true
    },
    "kernelspec": {
      "name": "python3",
      "display_name": "Python 3"
    },
    "accelerator": "GPU"
  },
  "cells": [
    {
      "cell_type": "markdown",
      "metadata": {
        "id": "view-in-github",
        "colab_type": "text"
      },
      "source": [
        "<a href=\"https://colab.research.google.com/github/seanchen/google-colaboratory/blob/main/sandbox/ppb-getstarted.ipynb\" target=\"_parent\"><img src=\"https://colab.research.google.com/assets/colab-badge.svg\" alt=\"Open In Colab\"/></a>"
      ]
    },
    {
      "cell_type": "markdown",
      "metadata": {
        "id": "ENpxpqbWuzw9"
      },
      "source": [
        "# Dependences"
      ]
    },
    {
      "cell_type": "code",
      "metadata": {
        "id": "KpsaDG9QEtPu"
      },
      "source": [
        "!apt-get install libsdl2-gfx-1.0-0 libsdl2-gfx-dev libsdl2-2.0-0 libsdl2-dev libsdl2-mixer-2.0-0 libsdl2-mixer-dev"
      ],
      "execution_count": null,
      "outputs": []
    },
    {
      "cell_type": "code",
      "metadata": {
        "id": "MW-JHblBuy13"
      },
      "source": [
        "!pip install ppb twisted txppb pysdl2"
      ],
      "execution_count": null,
      "outputs": []
    },
    {
      "cell_type": "markdown",
      "metadata": {
        "id": "T02iH8-fvWrT"
      },
      "source": [
        "# Glue the event loops of Jupyter and PPB"
      ]
    },
    {
      "cell_type": "code",
      "metadata": {
        "id": "Iveo9hraunxd"
      },
      "source": [
        "import txppb\n",
        "\n",
        "from twisted.internet import asyncioreactor\n",
        "\n",
        "asyncioreactor.install()\n",
        "__file__ = None\n",
        "\n",
        "def setup(scene):\n",
        "  global SCENE\n",
        "  SCENE = scene\n",
        "\n",
        "d = txppb.run(setup)\n",
        "d.addBoth(print)"
      ],
      "execution_count": null,
      "outputs": []
    }
  ]
}