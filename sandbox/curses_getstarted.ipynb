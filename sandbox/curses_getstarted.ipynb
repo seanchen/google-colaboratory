{
  "nbformat": 4,
  "nbformat_minor": 0,
  "metadata": {
    "colab": {
      "name": "curses-getstarted.ipynb",
      "private_outputs": true,
      "provenance": [],
      "authorship_tag": "ABX9TyN1JNRKFriwVX1iUeR0+fTm",
      "include_colab_link": true
    },
    "kernelspec": {
      "name": "python3",
      "display_name": "Python 3"
    },
    "accelerator": "GPU"
  },
  "cells": [
    {
      "cell_type": "markdown",
      "metadata": {
        "id": "view-in-github",
        "colab_type": "text"
      },
      "source": [
        "<a href=\"https://colab.research.google.com/github/seanchen/google-colaboratory/blob/main/sandbox/curses_getstarted.ipynb\" target=\"_parent\"><img src=\"https://colab.research.google.com/assets/colab-badge.svg\" alt=\"Open In Colab\"/></a>"
      ]
    },
    {
      "cell_type": "code",
      "metadata": {
        "id": "uR3De_eR2SdV"
      },
      "source": [
        "import curses\n",
        "\n",
        "def main(stdscr):\n",
        "  # turn off cursor blinking by set to 0\n",
        "  # set to 0 to turn on it.\n",
        "  curses.curs_set(1)\n",
        "\n",
        "  # get the screen size\n",
        "  sh, sw = stdscr.getmaxyx()\n",
        "  # figure out the center of the screen.\n",
        "  # the operator // will return integer compare to /\n",
        "  center = [sh // 2, sw // 2]\n",
        "  \n",
        "  text = 'Hello Curses World!'\n",
        "  stdscr.addstr(center[0], center[1], text)\n",
        "\n",
        "  stdscr.refresh()\n",
        "  stdscr.getch()\n",
        "\n",
        "curses.wrapper(main)"
      ],
      "execution_count": null,
      "outputs": []
    },
    {
      "cell_type": "code",
      "metadata": {
        "id": "QvR18OXB3r9p"
      },
      "source": [
        "a = 100\n",
        "a // 2"
      ],
      "execution_count": null,
      "outputs": []
    }
  ]
}