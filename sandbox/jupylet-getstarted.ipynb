{
  "nbformat": 4,
  "nbformat_minor": 0,
  "metadata": {
    "colab": {
      "name": "Untitled5.ipynb",
      "provenance": [],
      "authorship_tag": "ABX9TyPpnib3EWnXIT+WOu083mhG",
      "include_colab_link": true
    },
    "kernelspec": {
      "name": "python3",
      "display_name": "Python 3"
    },
    "accelerator": "GPU",
    "widgets": {
      "application/vnd.jupyter.widget-state+json": {
        "38b92b26fae94caca6ea88bdb8a0ff30": {
          "model_module": "@jupyter-widgets/controls",
          "model_name": "ImageModel",
          "state": {
            "_view_name": "ImageView",
            "_dom_classes": [],
            "_model_name": "ImageModel",
            "format": "JPEG",
            "_view_module": "@jupyter-widgets/controls",
            "_model_module_version": "1.5.0",
            "_view_count": null,
            "width": "",
            "_view_module_version": "1.5.0",
            "layout": "IPY_MODEL_c8aa0e76d22b4c989e30fd67e6020045",
            "height": "",
            "_model_module": "@jupyter-widgets/controls"
          }
        },
        "c8aa0e76d22b4c989e30fd67e6020045": {
          "model_module": "@jupyter-widgets/base",
          "model_name": "LayoutModel",
          "state": {
            "_view_name": "LayoutView",
            "grid_template_rows": null,
            "right": null,
            "justify_content": null,
            "_view_module": "@jupyter-widgets/base",
            "overflow": null,
            "_model_module_version": "1.2.0",
            "_view_count": null,
            "flex_flow": null,
            "width": null,
            "min_width": null,
            "border": null,
            "align_items": null,
            "bottom": null,
            "_model_module": "@jupyter-widgets/base",
            "top": null,
            "grid_column": null,
            "overflow_y": null,
            "overflow_x": null,
            "grid_auto_flow": null,
            "grid_area": null,
            "grid_template_columns": null,
            "flex": null,
            "_model_name": "LayoutModel",
            "justify_items": null,
            "grid_row": null,
            "max_height": null,
            "align_content": null,
            "visibility": null,
            "align_self": null,
            "height": null,
            "min_height": null,
            "padding": null,
            "grid_auto_rows": null,
            "grid_gap": null,
            "max_width": null,
            "order": null,
            "_view_module_version": "1.2.0",
            "grid_template_areas": null,
            "object_position": null,
            "object_fit": null,
            "grid_auto_columns": null,
            "margin": null,
            "display": null,
            "left": null
          }
        }
      }
    }
  },
  "cells": [
    {
      "cell_type": "markdown",
      "metadata": {
        "id": "view-in-github",
        "colab_type": "text"
      },
      "source": [
        "<a href=\"https://colab.research.google.com/github/seanchen/google-colaboratory/blob/main/sandbox/jupylet-getstarted.ipynb\" target=\"_parent\"><img src=\"https://colab.research.google.com/assets/colab-badge.svg\" alt=\"Open In Colab\"/></a>"
      ]
    },
    {
      "cell_type": "markdown",
      "metadata": {
        "id": "fy6MhYETcD3I"
      },
      "source": [
        "# Dependences"
      ]
    },
    {
      "cell_type": "code",
      "metadata": {
        "id": "HvR27o1ke-aX"
      },
      "source": [
        "!apt-get install libegl1 libegl-dev"
      ],
      "execution_count": null,
      "outputs": []
    },
    {
      "cell_type": "code",
      "metadata": {
        "id": "dbWgkOVJcBhY"
      },
      "source": [
        "!pip install jupylet twisted"
      ],
      "execution_count": null,
      "outputs": []
    },
    {
      "cell_type": "markdown",
      "metadata": {
        "id": "AqcMU7Hgcdaj"
      },
      "source": [
        "# Hellp Jupylet!"
      ]
    },
    {
      "cell_type": "code",
      "metadata": {
        "id": "vvHVj6fpJp6t"
      },
      "source": [
        "#from twisted.internet import asyncioreactor\n",
        "#asyncioreactor.install()\n",
        "#__file__ = None"
      ],
      "execution_count": 3,
      "outputs": []
    },
    {
      "cell_type": "code",
      "metadata": {
        "colab": {
          "base_uri": "https://localhost:8080/",
          "height": 89,
          "referenced_widgets": [
            "38b92b26fae94caca6ea88bdb8a0ff30",
            "c8aa0e76d22b4c989e30fd67e6020045"
          ]
        },
        "id": "sXps-x71cjF6",
        "outputId": "4fda48b1-8bd8-4085-d4f0-f410fdeb055f"
      },
      "source": [
        "import sys\n",
        "import os\n",
        "\n",
        "sys.path.insert( 0, os.path.abspath( './..' ) )\n",
        "\n",
        "from jupylet.label import Label\n",
        "from jupylet.app import App\n",
        "\n",
        "# create a game application object:\n",
        "app = App( width=320, height=64 )\n",
        "\n",
        "# create a test label with and position it just outside\n",
        "# the right hand side of the canvas:\n",
        "hello = Label( 'Hello World!', color='cyan', font_size=32, x=app.width, y=22 )\n",
        "\n",
        "# create a function to update the label position.\n",
        "# the @app.run_me_every( 1/24 ) decorator will make sure\n",
        "# it is run 24 times each second.\n",
        "@app.run_me_every( 1/24 )\n",
        "def scroll( ct, dt ):\n",
        "  hello.x -= dt * 48\n",
        "  if hello.right < 0:\n",
        "    hello.x = app.width\n",
        "\n",
        "# create a function to render a game frame to the canvas:\n",
        "@app.event\n",
        "def render( ct, dt ):\n",
        "  app.window.clear()\n",
        "  hello.draw()\n",
        "\n",
        "# start the gaame.\n",
        "app.run()"
      ],
      "execution_count": 14,
      "outputs": [
        {
          "output_type": "display_data",
          "data": {
            "application/vnd.jupyter.widget-view+json": {
              "model_id": "38b92b26fae94caca6ea88bdb8a0ff30",
              "version_minor": 0,
              "version_major": 2
            },
            "text/plain": [
              "Image(value=b'\\xff\\xd8\\xff\\xe0\\x00\\x10JFIF\\x00\\x01\\x01\\x00\\x00\\x01\\x00\\x01\\x00\\x00\\xff\\xdb\\x00C\\x00\\x08\\x06\\x0…"
            ]
          },
          "metadata": {
            "tags": []
          }
        }
      ]
    }
  ]
}